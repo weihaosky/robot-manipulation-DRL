{
 "cells": [
  {
   "cell_type": "code",
   "execution_count": 1,
   "metadata": {},
   "outputs": [],
   "source": [
    "%matplotlib inline\n",
    "import math\n",
    "import random\n",
    "import numpy as np\n",
    "import pickle\n",
    "import matplotlib.pyplot as plt\n",
    "import scipy.io as sio"
   ]
  },
  {
   "cell_type": "code",
   "execution_count": 7,
   "metadata": {},
   "outputs": [
    {
     "name": "stdout",
     "output_type": "stream",
     "text": [
      "(0.36, 0.63)\n",
      "(0.46, 0.69)\n",
      "(0.38, 0.68)\n",
      "(0.44, 0.72)\n",
      "(0.42, 0.59)\n",
      "0.41200000000000003\n",
      "0.037094473981982824\n",
      "0.6619999999999999\n",
      "0.04621688003316537\n"
     ]
    }
   ],
   "source": [
    "file_load1 = open('./SKY/test1000.pkl', 'rb')\n",
    "Test_load1 = pickle.load(file_load1)\n",
    "Test1 = np.array(Test_load1)\n",
    "# Test2 = np.asarray(Test_load1[100:200])\n",
    "# Test3 = np.asarray(Test_load1[200:300])\n",
    "# Test4 = np.asarray(Test_load1[300:400])\n",
    "# Test5 = np.asarray(Test_load1[400:500])\n",
    "# print len(Test3)\n",
    "rws = []\n",
    "rmaxws = []\n",
    "for j in range(5):\n",
    "    w_count = 0\n",
    "    maxw_count = 0\n",
    "    for i in range(100):\n",
    "        if Test1[i+100*j][0] > 2:\n",
    "            w_count += 1\n",
    "        if Test1[i+100*j][1] > 2:\n",
    "            maxw_count += 1\n",
    "    rw = w_count / 100.0\n",
    "    rmaxw = maxw_count / 100.0\n",
    "    rws.append(rw)\n",
    "    rmaxws.append(rmaxw)\n",
    "    print(rw, rmaxw)\n",
    "\n",
    "print np.mean(np.array(rws))\n",
    "print np.std(np.array(rws))\n",
    "print np.mean(np.array(rmaxws))\n",
    "print np.std(np.array(rmaxws))"
   ]
  },
  {
   "cell_type": "code",
   "execution_count": null,
   "metadata": {},
   "outputs": [],
   "source": []
  }
 ],
 "metadata": {
  "kernelspec": {
   "display_name": "Python 2",
   "language": "python",
   "name": "python2"
  },
  "language_info": {
   "codemirror_mode": {
    "name": "ipython",
    "version": 2
   },
   "file_extension": ".py",
   "mimetype": "text/x-python",
   "name": "python",
   "nbconvert_exporter": "python",
   "pygments_lexer": "ipython2",
   "version": "2.7.12"
  }
 },
 "nbformat": 4,
 "nbformat_minor": 2
}
