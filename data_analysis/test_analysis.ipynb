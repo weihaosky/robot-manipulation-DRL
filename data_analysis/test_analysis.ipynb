{
 "cells": [
  {
   "cell_type": "code",
   "execution_count": 1,
   "metadata": {},
   "outputs": [],
   "source": [
    "%matplotlib inline\n",
    "import math\n",
    "import random\n",
    "import numpy as np\n",
    "import pickle\n",
    "import matplotlib.pyplot as plt\n",
    "import scipy.io as sio"
   ]
  },
  {
   "cell_type": "code",
   "execution_count": 4,
   "metadata": {},
   "outputs": [
    {
     "name": "stdout",
     "output_type": "stream",
     "text": [
      "(0.75, 0.99)\n",
      "(0.88, 1.0)\n"
     ]
    },
    {
     "ename": "IndexError",
     "evalue": "index 200 is out of bounds for axis 0 with size 200",
     "output_type": "error",
     "traceback": [
      "\u001b[0;31m---------------------------------------------------------------------------\u001b[0m",
      "\u001b[0;31mIndexError\u001b[0m                                Traceback (most recent call last)",
      "\u001b[0;32m<ipython-input-4-5f57082e6b6d>\u001b[0m in \u001b[0;36m<module>\u001b[0;34m()\u001b[0m\n\u001b[1;32m     13\u001b[0m     \u001b[0mmaxw_count\u001b[0m \u001b[0;34m=\u001b[0m \u001b[0;36m0\u001b[0m\u001b[0;34m\u001b[0m\u001b[0m\n\u001b[1;32m     14\u001b[0m     \u001b[0;32mfor\u001b[0m \u001b[0mi\u001b[0m \u001b[0;32min\u001b[0m \u001b[0mrange\u001b[0m\u001b[0;34m(\u001b[0m\u001b[0;36m100\u001b[0m\u001b[0;34m)\u001b[0m\u001b[0;34m:\u001b[0m\u001b[0;34m\u001b[0m\u001b[0m\n\u001b[0;32m---> 15\u001b[0;31m         \u001b[0;32mif\u001b[0m \u001b[0mTest1\u001b[0m\u001b[0;34m[\u001b[0m\u001b[0mi\u001b[0m\u001b[0;34m+\u001b[0m\u001b[0;36m100\u001b[0m\u001b[0;34m*\u001b[0m\u001b[0mj\u001b[0m\u001b[0;34m]\u001b[0m\u001b[0;34m[\u001b[0m\u001b[0;36m0\u001b[0m\u001b[0;34m]\u001b[0m \u001b[0;34m>\u001b[0m \u001b[0;36m1.5\u001b[0m\u001b[0;34m:\u001b[0m\u001b[0;34m\u001b[0m\u001b[0m\n\u001b[0m\u001b[1;32m     16\u001b[0m             \u001b[0mw_count\u001b[0m \u001b[0;34m+=\u001b[0m \u001b[0;36m1\u001b[0m\u001b[0;34m\u001b[0m\u001b[0m\n\u001b[1;32m     17\u001b[0m         \u001b[0;32mif\u001b[0m \u001b[0mTest1\u001b[0m\u001b[0;34m[\u001b[0m\u001b[0mi\u001b[0m\u001b[0;34m+\u001b[0m\u001b[0;36m100\u001b[0m\u001b[0;34m*\u001b[0m\u001b[0mj\u001b[0m\u001b[0;34m]\u001b[0m\u001b[0;34m[\u001b[0m\u001b[0;36m1\u001b[0m\u001b[0;34m]\u001b[0m \u001b[0;34m>\u001b[0m \u001b[0;36m1.5\u001b[0m\u001b[0;34m:\u001b[0m\u001b[0;34m\u001b[0m\u001b[0m\n",
      "\u001b[0;31mIndexError\u001b[0m: index 200 is out of bounds for axis 0 with size 200"
     ]
    }
   ],
   "source": [
    "file_load1 = open('./SKY/test1000_noise0.1.pkl', 'rb')\n",
    "Test_load1 = pickle.load(file_load1)\n",
    "Test1 = np.array(Test_load1)\n",
    "# Test2 = np.asarray(Test_load1[100:200])\n",
    "# Test3 = np.asarray(Test_load1[200:300])\n",
    "# Test4 = np.asarray(Test_load1[300:400])\n",
    "# Test5 = np.asarray(Test_load1[400:500])\n",
    "# print len(Test3)\n",
    "rws = []\n",
    "rmaxws = []\n",
    "for j in range(5):\n",
    "    w_count = 0\n",
    "    maxw_count = 0\n",
    "    for i in range(100):\n",
    "        if Test1[i+100*j][0] > 1.5:\n",
    "            w_count += 1\n",
    "        if Test1[i+100*j][1] > 1.5:\n",
    "            maxw_count += 1\n",
    "    rw = w_count / 100.0\n",
    "    rmaxw = maxw_count / 100.0\n",
    "    rws.append(rw)\n",
    "    rmaxws.append(rmaxw)\n",
    "    print(rw, rmaxw)\n",
    "\n",
    "print np.mean(np.array(rws))\n",
    "print np.std(np.array(rws))\n",
    "print np.mean(np.array(rmaxws))\n",
    "print np.std(np.array(rmaxws))"
   ]
  },
  {
   "cell_type": "code",
   "execution_count": 10,
   "metadata": {},
   "outputs": [
    {
     "ename": "ValueError",
     "evalue": "setting an array element with a sequence.",
     "output_type": "error",
     "traceback": [
      "\u001b[0;31m---------------------------------------------------------------------------\u001b[0m",
      "\u001b[0;31mValueError\u001b[0m                                Traceback (most recent call last)",
      "\u001b[0;32m<ipython-input-10-f88246539c7d>\u001b[0m in \u001b[0;36m<module>\u001b[0;34m()\u001b[0m\n\u001b[1;32m      1\u001b[0m \u001b[0mfile_load1\u001b[0m \u001b[0;34m=\u001b[0m \u001b[0mopen\u001b[0m\u001b[0;34m(\u001b[0m\u001b[0;34m'./SKY/test1000_noise0.1.pkl'\u001b[0m\u001b[0;34m,\u001b[0m \u001b[0;34m'rb'\u001b[0m\u001b[0;34m)\u001b[0m\u001b[0;34m\u001b[0m\u001b[0m\n\u001b[1;32m      2\u001b[0m \u001b[0mTest_load1\u001b[0m \u001b[0;34m=\u001b[0m \u001b[0mpickle\u001b[0m\u001b[0;34m.\u001b[0m\u001b[0mload\u001b[0m\u001b[0;34m(\u001b[0m\u001b[0mfile_load1\u001b[0m\u001b[0;34m)\u001b[0m\u001b[0;34m\u001b[0m\u001b[0m\n\u001b[0;32m----> 3\u001b[0;31m \u001b[0mTest1\u001b[0m \u001b[0;34m=\u001b[0m \u001b[0mnp\u001b[0m\u001b[0;34m.\u001b[0m\u001b[0marray\u001b[0m\u001b[0;34m(\u001b[0m\u001b[0mTest_load1\u001b[0m\u001b[0;34m)\u001b[0m\u001b[0;34m\u001b[0m\u001b[0m\n\u001b[0m\u001b[1;32m      4\u001b[0m \u001b[0;31m# Test2 = np.asarray(Test_load1[100:200])\u001b[0m\u001b[0;34m\u001b[0m\u001b[0;34m\u001b[0m\u001b[0m\n\u001b[1;32m      5\u001b[0m \u001b[0;31m# Test3 = np.asarray(Test_load1[200:300])\u001b[0m\u001b[0;34m\u001b[0m\u001b[0;34m\u001b[0m\u001b[0m\n",
      "\u001b[0;31mValueError\u001b[0m: setting an array element with a sequence."
     ]
    }
   ],
   "source": [
    "file_load1 = open('./SKY/test1000_noise0.1.pkl', 'rb')\n",
    "Test_load1 = pickle.load(file_load1)\n",
    "Test1_w = np.array(Test_load1)\n",
    "\n",
    "rws = []\n",
    "rmaxws = []\n",
    "w_count = 0\n",
    "maxw_count = 0\n",
    "for i in range(100):\n",
    "    if Test1[i][0] > 1.5:\n",
    "        w_count += 1\n",
    "    if Test1[i][1] > 1.5:\n",
    "        maxw_count += 1\n",
    "rw = w_count / 100.0\n",
    "rmaxw = maxw_count / 100.0\n",
    "rws.append(rw)\n",
    "rmaxws.append(rmaxw)\n",
    "print(rw, rmaxw)\n",
    "\n",
    "print np.mean(np.array(rws))\n",
    "print np.std(np.array(rws))\n",
    "print np.mean(np.array(rmaxws))\n",
    "print np.std(np.array(rmaxws))\n",
    "\n",
    "print Test1[0][2]\n",
    "# plt.figure(1)\n",
    "# x_eva = np.arange(0, 10, 1)\n",
    "# plt.plot(x_eva, maxw_eva)\n",
    "# plt.title(\"maxw_eva\")"
   ]
  },
  {
   "cell_type": "code",
   "execution_count": 5,
   "metadata": {},
   "outputs": [
    {
     "name": "stdout",
     "output_type": "stream",
     "text": [
      "[0.04561003644979957, 0.09113610264097018, 0.14753167722744379, 0.14802812018063993, 0.16126558072520075, 0.2262240568463944, 0.24724746624796548, 0.26417819927924563, 0.2811620804022417, 0.28027886691379567, 0.2903175358233077]\n",
      "[0.04201169245533952, 0.09008849079254248, 0.1588314907225494, 0.16039718358530414, 0.19978137058736262, 0.24284762573220625, 0.2700350504091614, 0.3010323164456307, 0.31078122239810224, 0.29514910146395973, 0.28879277244415874]\n",
      "[0.0471424385100158, 0.09237837734604297, 0.16167809646714168, 0.2031500478413027, 0.24162653768918427, 0.2690119687587866, 0.2822174336202063, 0.2771415806245458, 0.2825224301246713, 0.29959672653760994, 0.3053819119983976]\n",
      "1.704647958337792\n"
     ]
    },
    {
     "data": {
      "image/png": "[encoded data removed]",
      "text/plain": [
       "<matplotlib.figure.Figure at 0x7f4f38994410>"
      ]
     },
     "metadata": {},
     "output_type": "display_data"
    }
   ],
   "source": [
    "file_load1 = open('./SKY/test1000_nonoise.pkl', 'rb')\n",
    "Test_load1 = pickle.load(file_load1)\n",
    "Test1_ww = [Test1[0] for Test1 in Test_load1]\n",
    "Test1_maxw = [Test1[1] for Test1 in Test_load1]\n",
    "Test1_ws = [Test1[2] for Test1 in Test_load1]\n",
    "w1 = []\n",
    "w1_std = []\n",
    "for i in range(11):\n",
    "    Test1_ws0 = [Test1_w[i] for Test1_w in Test1_ws]\n",
    "    w1.append(np.mean(Test1_ws0))\n",
    "    w1_std.append(np.std(Test1_ws0))\n",
    "print w1_std\n",
    "    \n",
    "file_load2 = open('./SKY/test1000_noise0.1.pkl', 'rb')\n",
    "Test_load2 = pickle.load(file_load2)\n",
    "Test2_ww = [Test2[0] for Test2 in Test_load2]\n",
    "Test2_maxw = [Test2[1] for Test2 in Test_load2]\n",
    "Test2_ws = [Test2[2] for Test2 in Test_load2]\n",
    "w2 = []\n",
    "w2_std = []\n",
    "for i in range(11):\n",
    "    Test2_ws0 = [Test2_w[i] for Test2_w in Test2_ws]\n",
    "    w2.append(np.mean(Test2_ws0))\n",
    "    w2_std.append(np.std(Test2_ws0))\n",
    "print w2_std\n",
    "    \n",
    "    \n",
    "file_load3 = open('./SKY/test1000_noise0.2.pkl', 'rb')\n",
    "Test_load3 = pickle.load(file_load3)\n",
    "Test3_ww = [Test3[0] for Test3 in Test_load3]\n",
    "Test3_maxw = [Test3[1] for Test3 in Test_load3]\n",
    "Test3_ws = [Test3[2] for Test3 in Test_load3]\n",
    "w3 = []\n",
    "w3_std = []\n",
    "for i in range(11):\n",
    "    Test3_ws0 = [Test3_w[i] for Test3_w in Test3_ws]\n",
    "    w3.append(np.mean(Test3_ws0))\n",
    "    w3_std.append(np.std(Test3_ws0))\n",
    "print w3_std\n",
    "    \n",
    "file_load4 = open('./SKY/test1000_noise1.0_2.pkl', 'rb')\n",
    "Test_load4 = pickle.load(file_load4)\n",
    "Test4_ww = [Test4[0] for Test4 in Test_load4]\n",
    "Test4_maxw = [Test4[1] for Test4 in Test_load4]\n",
    "Test4_ws = [Test4[2] for Test4 in Test_load4]\n",
    "w4 = []\n",
    "w4_std = []\n",
    "for i in range(11):\n",
    "    Test4_ws0 = [Test4_w[i] for Test4_w in Test4_ws]\n",
    "    w4.append(np.mean(Test4_ws0))\n",
    "    w4_std.append(np.std(Test4_ws0))\n",
    "print np.mean(Test4_ws0)\n",
    "\n",
    "plt.figure(1)\n",
    "x = np.arange(0, 11, 1)\n",
    "p1 = plt.plot(x, w1)\n",
    "p2 = plt.plot(x, w2)\n",
    "p3 = plt.plot(x, w3)\n",
    "p3 = plt.plot(x, w4)\n",
    "plt.title(\"w\")\n",
    "plt.legend(['0','0.1','0.2', '1'],  loc = 'lower right')\n",
    "plt.xlim((0, 5))\n",
    "\n",
    "sio.savemat('record_noisy.mat', \n",
    "            {'x':x,\n",
    "             'w1':w1, 'w2':w2, 'w3':w3, 'w4':w4,\n",
    "             'w1_std':w1_std, 'w2_std':w2_std, 'w3_std':w3_std, 'w4_std':w4_std})"
   ]
  },
  {
   "cell_type": "code",
   "execution_count": 35,
   "metadata": {},
   "outputs": [
    {
     "data": {
      "text/plain": [
       "array([ 0,  1,  2,  3,  4,  5,  6,  7,  8,  9, 10])"
      ]
     },
     "execution_count": 35,
     "metadata": {},
     "output_type": "execute_result"
    }
   ],
   "source": [
    "np.arange(0,11,1)"
   ]
  }
 ],
 "metadata": {
  "kernelspec": {
   "display_name": "Python 2",
   "language": "python",
   "name": "python2"
  },
  "language_info": {
   "codemirror_mode": {
    "name": "ipython",
    "version": 2
   },
   "file_extension": ".py",
   "mimetype": "text/x-python",
   "name": "python",
   "nbconvert_exporter": "python",
   "pygments_lexer": "ipython2",
   "version": "2.7.12"
  }
 },
 "nbformat": 4,
 "nbformat_minor": 2
}
