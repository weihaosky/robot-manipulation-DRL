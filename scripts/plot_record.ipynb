{
 "cells": [
  {
   "cell_type": "code",
   "execution_count": null,
   "metadata": {},
   "outputs": [],
   "source": [
    "%matplotlib inline\n",
    "import math\n",
    "import random\n",
    "import numpy as np\n",
    "import pickle\n",
    "import matplotlib.pyplot as plt"
   ]
  },
  {
   "cell_type": "code",
   "execution_count": null,
   "metadata": {},
   "outputs": [],
   "source": [
    "file_load = open('../training_record/Record.pkl', 'rb')\n",
    "Record_load = pickle.load(file_load)\n",
    "print len(Record_load)\n",
    "Record = np.asarray(Record_load[::1])\n",
    "print len(Record)\n",
    "reward = Record[:,0]\n",
    "value = Record[:,1]\n",
    "w = Record[:,2]\n",
    "maxw = Record[:,3]\n",
    "loss = Record[:,4]\n",
    "time = Record[:,5]"
   ]
  },
  {
   "cell_type": "code",
   "execution_count": null,
   "metadata": {},
   "outputs": [],
   "source": [
    "x = np.arange(0, len(Record), 1)\n",
    "\n",
    "plt.figure(0)\n",
    "plt.plot(x, reward)\n",
    "plt.title(\"reward\")"
   ]
  },
  {
   "cell_type": "code",
   "execution_count": null,
   "metadata": {},
   "outputs": [],
   "source": [
    "x = np.arange(0, len(Record), 1)\n",
    "\n",
    "plt.figure(1)\n",
    "plt.plot(x, value)\n",
    "plt.title(\"value\")"
   ]
  },
  {
   "cell_type": "code",
   "execution_count": null,
   "metadata": {},
   "outputs": [],
   "source": [
    "x = np.arange(0, len(Record), 1)\n",
    "\n",
    "plt.figure(2)\n",
    "plt.plot(x, w)\n",
    "plt.title(\"w\")"
   ]
  },
  {
   "cell_type": "code",
   "execution_count": null,
   "metadata": {},
   "outputs": [],
   "source": [
    "plt.figure(3)\n",
    "plt.plot(x, maxw)\n",
    "plt.title(\"maxw\")"
   ]
  },
  {
   "cell_type": "code",
   "execution_count": null,
   "metadata": {},
   "outputs": [],
   "source": [
    "plt.figure(4)\n",
    "plt.plot(x, loss)\n",
    "plt.title(\"loss\")\n",
    "#plt.ylim((-100,500))"
   ]
  },
  {
   "cell_type": "code",
   "execution_count": null,
   "metadata": {},
   "outputs": [],
   "source": [
    "plt.figure(5)\n",
    "plt.plot(x, time)\n",
    "plt.title(\"time\")"
   ]
  },
  {
   "cell_type": "code",
   "execution_count": null,
   "metadata": {},
   "outputs": [],
   "source": []
  }
 ],
 "metadata": {
  "kernelspec": {
   "display_name": "Python 2",
   "language": "python",
   "name": "python2"
  },
  "language_info": {
   "codemirror_mode": {
    "name": "ipython",
    "version": 2
   },
   "file_extension": ".py",
   "mimetype": "text/x-python",
   "name": "python",
   "nbconvert_exporter": "python",
   "pygments_lexer": "ipython2",
   "version": "2.7.12"
  }
 },
 "nbformat": 4,
 "nbformat_minor": 2
}
